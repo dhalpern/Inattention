{
 "cells": [
  {
   "cell_type": "code",
   "execution_count": 28,
   "metadata": {
    "collapsed": true
   },
   "outputs": [],
   "source": [
    "%matplotlib inline\n",
    "import numpy as np\n",
    "from scipy.stats import binom\n",
    "import scipy as sp\n",
    "import matplotlib\n",
    "import matplotlib.pyplot as plt\n",
    "matplotlib.style.use('ggplot')\n",
    "import sys"
   ]
  },
  {
   "cell_type": "markdown",
   "metadata": {},
   "source": [
    "Our setup:\n",
    "\n",
    "Stimuli in our experiment have two dimensions X and Y that can be either True or False.\n",
    "\n",
    "Subjects have to classify stimuli into two categories (A and B), defined as bivariate bernoulli distributions. Therefore each category can be defined by three parameters as follows (this example is an XOR category):"
   ]
  },
  {
   "cell_type": "code",
   "execution_count": 3,
   "metadata": {
    "collapsed": true
   },
   "outputs": [],
   "source": [
    "pA_00 = .5 #Probability of a category A stimulus being ~X and ~Y\n",
    "pA_10 = 0 #Probability of a category A stimulus being X and ~Y\n",
    "pA_01 = 0 #Probability of a category A stimulus being ~X and Y\n",
    "pA_11 = 1 - (pA_00 + pA_10 + pA_01) #Probability of a category A stimulus being X and Y\n",
    "cat_A = [[pA_00, pA_10], \n",
    "         [pA_01, pA_11]]\n",
    "\n",
    "pB_00 = 0 \n",
    "pB_10 = .5 \n",
    "pB_01 = .5\n",
    "pB_11 = 1 - (pB_00 + pB_10 + pB_01)\n",
    "cat_B = [[pB_00, pB_10], \n",
    "         [pB_01, pB_11]]"
   ]
  },
  {
   "cell_type": "markdown",
   "metadata": {},
   "source": [
    "Alternately, we can reparameterize the categories as a probability that X is True, probability that Y is true and the correlation between the two dimensions"
   ]
  },
  {
   "cell_type": "code",
   "execution_count": 5,
   "metadata": {
    "collapsed": true
   },
   "outputs": [],
   "source": [
    "A_X = .5 \n",
    "A_Y = .5\n",
    "A_rho = 1 #correlation\n",
    "\n",
    "B_X = .5 \n",
    "B_Y = .5\n",
    "B_rho = -1"
   ]
  },
  {
   "cell_type": "markdown",
   "metadata": {},
   "source": [
    "(This function converts back to the original representation)"
   ]
  },
  {
   "cell_type": "code",
   "execution_count": 6,
   "metadata": {
    "collapsed": false
   },
   "outputs": [
    {
     "name": "stdout",
     "output_type": "stream",
     "text": [
      "[[0.5, 0.0], [0.0, 0.5]]\n",
      "[[0.0, 0.5], [0.5, 0.0]]\n"
     ]
    }
   ],
   "source": [
    "def get_cat(pX, pY, rho):\n",
    "    qX = 1 - pX\n",
    "    qY = 1 - pY\n",
    "    sigmaX = np.sqrt(pX * qX)\n",
    "    sigmaY = np.sqrt(pY * qY)\n",
    "    sigmaXY = rho * sigmaX * sigmaY\n",
    "    p00 = (qX * qY) + sigmaXY\n",
    "    p10 = (pX * qY) - sigmaXY\n",
    "    p01 = (qX * pY) - sigmaXY\n",
    "    p11 = (pX * pY) + sigmaXY\n",
    "    cat = [[p00, p10], [p01, p11]]\n",
    "    return cat\n",
    "\n",
    "print get_cat(A_X, A_Y, A_rho)\n",
    "print get_cat(B_X, B_Y, B_rho)"
   ]
  },
  {
   "cell_type": "markdown",
   "metadata": {},
   "source": [
    "Now we need a prior over categories, we assume each category is equally likely for now:"
   ]
  },
  {
   "cell_type": "code",
   "execution_count": 7,
   "metadata": {
    "collapsed": true
   },
   "outputs": [],
   "source": [
    "p0 = .5"
   ]
  },
  {
   "cell_type": "markdown",
   "metadata": {},
   "source": [
    "In the categorization task, subjects do not get to see the true stimulus but instead see several noisy samples of each stimulus dimension. These samples are independent and have Bernoulli noise. Here we assume that noise is .8"
   ]
  },
  {
   "cell_type": "code",
   "execution_count": 8,
   "metadata": {
    "collapsed": true
   },
   "outputs": [],
   "source": [
    "p = .8"
   ]
  },
  {
   "cell_type": "markdown",
   "metadata": {},
   "source": [
    "Now we can compute the expected probability correct under an allocation N = [N_X, N_Y] using the optimal decision policy (which responds with whichever likelihood is greater). N_X is the number of samples allocated to category A. \n",
    "\n",
    "First we compute the probability of an outcome k = [k_X, k_Y]. k_X is the number of samples of dimension X that came out True."
   ]
  },
  {
   "cell_type": "code",
   "execution_count": 36,
   "metadata": {
    "collapsed": true
   },
   "outputs": [],
   "source": [
    "def prob_k(k, N, cat_A, cat_B, p, p0):\n",
    "    N_X, N_Y = N\n",
    "    k_X, k_Y = k\n",
    "    #Compute probabilities of k given that true stimulus takes on a certain value\n",
    "    #Probability of k_X True samples is binomial with probability 1-p if the true stimulus is False\n",
    "    prob_k_00 = binom.pmf(k_X, N_X, 1-p) * binom.pmf(k_Y, N_Y, 1-p)\n",
    "    prob_k_10 = binom.pmf(k_X, N_X, p) * binom.pmf(k_Y, N_Y, 1-p)\n",
    "    prob_k_01 = binom.pmf(k_X, N_X, 1-p) * binom.pmf(k_Y, N_Y, p)\n",
    "    prob_k_11 = binom.pmf(k_X, N_X, p) * binom.pmf(k_Y, N_Y, p)\n",
    "    \n",
    "    #Now multiply by category probabilities to get probability of observing k under each category\n",
    "    [[pA_00, pA_10], [pA_01, pA_11]] = cat_A\n",
    "    [[pB_00, pB_10], [pB_01, pB_11]] = cat_B\n",
    "    pA = ((pA_00 * prob_k_00) + \n",
    "          (pA_10 * prob_k_10) + \n",
    "          (pA_01 * prob_k_01) + \n",
    "          (pA_11 * prob_k_11))\n",
    "    pB = ((pB_00 * prob_k_00) + \n",
    "          (pB_10 * prob_k_10) + \n",
    "          (pB_01 * prob_k_01) + \n",
    "          (pB_11 * prob_k_11))\n",
    "    \n",
    "    #Now the decision variable (positive if A is better, negative if B is better)\n",
    "    d = p0 * pB - (1 - p0) * pA\n",
    "    \n",
    "    #Compute optimal response r: if r is 1, respond B, if r is 0, respond A and if r is .5 likelihoods are equal\n",
    "    if abs(d) < sys.float_info.epsilon:\n",
    "        r = .5\n",
    "    else:\n",
    "        r = int(d > 0)\n",
    "    return pA, pB, r"
   ]
  },
  {
   "cell_type": "markdown",
   "metadata": {},
   "source": [
    "Now compute expected probability correct under an allocation N if we use the optimal response:"
   ]
  },
  {
   "cell_type": "code",
   "execution_count": 33,
   "metadata": {
    "collapsed": true
   },
   "outputs": [],
   "source": [
    "def p_correct(N, cat_A, cat_B, p, p0):\n",
    "    pAs = np.zeros((N[0] + 1, N[1] + 1))\n",
    "    pBs = np.zeros((N[0] + 1, N[1] + 1))\n",
    "    rs = np.zeros((N[0] + 1, N[1] + 1))\n",
    "    \n",
    "    #Compute probability and optimal response for all possible k values\n",
    "    for k_0 in range(N[0] + 1):\n",
    "        for k_1 in range(N[1] + 1):\n",
    "            k = [k_0, k_1]\n",
    "            pAs[k_0, k_1], pBs[k_0, k_1], rs[k_0, k_1] = prob_k(k, N, cat_A, cat_B, p, p0)\n",
    "            \n",
    "    #Compute probability correct assuming optimal response\n",
    "    p_correct = (p0 * np.sum(pAs[rs == 0])) + ((1 - p0) * np.sum(pBs[rs == 1])) + (p0 * np.sum(pAs[rs == .5]))\n",
    "    return p_correct"
   ]
  },
  {
   "cell_type": "markdown",
   "metadata": {},
   "source": [
    "A faster version of the above function:"
   ]
  },
  {
   "cell_type": "code",
   "execution_count": 25,
   "metadata": {
    "collapsed": true
   },
   "outputs": [],
   "source": [
    "def p_correct(N, cat_A, cat_B, p, p0):\n",
    "    results = np.array([prob_k([k_0, k_1], N, cat_A, cat_B, p, p0) for k_0 in range(N[0] + 1) for k_1 in range(N[1] + 1)])\n",
    "    p_correct = (p0 * np.sum(results[:,0][results[:,2] == 0])) + ((1 - p0) * np.sum(results[:,1][results[:,2] == 1])) + (p0 * np.sum(results[:,0][results[:,2] == .5]))\n",
    "    return p_correct"
   ]
  },
  {
   "cell_type": "markdown",
   "metadata": {},
   "source": [
    "For a fixed number of samples $\\kappa$, we can compute the expected probability correct under all possible allocations and plot it:"
   ]
  },
  {
   "cell_type": "code",
   "execution_count": 44,
   "metadata": {
    "collapsed": true
   },
   "outputs": [],
   "source": [
    "def get_preds(kappa, cat_A, cat_B, p, p0, plot=False, new_fig=True, label=\"\"):\n",
    "    lams = range(kappa + 1)\n",
    "    p_corrects = [p_correct([lam, kappa-lam], cat_A, cat_B, p, p0) for lam in lams]\n",
    "    if new_fig:\n",
    "        plt.figure()\n",
    "    if plot:\n",
    "        pred_plot = plt.plot(lams, p_corrects, label=label)\n",
    "        plt.xlim([0, kappa])\n",
    "        plt.ylabel(\"optimal % correct\", fontsize=30)\n",
    "        plt.xlabel(\"# of X samples\", fontsize=30)\n",
    "        plt.ylim(0, 1)\n",
    "        return p_corrects, lams, pred_plot\n",
    "    return p_corrects"
   ]
  },
  {
   "cell_type": "markdown",
   "metadata": {},
   "source": [
    "And now let's plot the expected percent correct for the XOR category for $\\kappa = 10$. \n",
    "As you can see, the optimal thing to do is 5 samples on X. Also, notice the spiky loss function. \n",
    "Would be great to understand why it's spiky"
   ]
  },
  {
   "cell_type": "code",
   "execution_count": 43,
   "metadata": {
    "collapsed": false
   },
   "outputs": [
    {
     "data": {
      "image/png": "[encoded data removed]",
      "text/plain": [
       "<matplotlib.figure.Figure at 0x10eec6d90>"
      ]
     },
     "metadata": {},
     "output_type": "display_data"
    }
   ],
   "source": [
    "kappa = 10\n",
    "preds, lams, plot = get_preds(kappa, cat_A, cat_B, p, p0, plot=True)"
   ]
  },
  {
   "cell_type": "markdown",
   "metadata": {},
   "source": [
    "It would also be great to understand the decision variable for arbitrary categories. Here is what I have so far:\n",
    "\n",
    "Since the decision variable is just the difference in the log likelihood ratios, with some algebra we can rewrite it in a somewhat more intuitive form:\n",
    "\n",
    "Let d00 = pA_00 - pB_00, etc...\n",
    "\n",
    "Let sum_k = k_X + k_Y\n",
    "\n",
    "Let diff_k = k_X - k_Y\n",
    "\n",
    "Then d (the decision variable) is 0 iff\n",
    "\n",
    "d11 * (p^sum_k * (1 - p)^(kappa - sum_k)) + d00 * (p^(kappa - sum_k) * (1 - p)^sum_k) = -(d01 * (p^(-diff_k + N_X) * (1 - p)^(diff_k + N_Y)) + d10 * (p^(diff_k + N_Y) * (1 - p)^(-diff_k + N_X)))\n",
    "\n",
    "The decision variable favoring one category or the other seems to have to do with the likelihood of both variables taking on the same value under both categories and comparing that with the likelihood that they take on different values. Not sure if this makes any sense though..."
   ]
  },
  {
   "cell_type": "markdown",
   "metadata": {},
   "source": [
    "Also, I've been trying to understand the spikiness of the loss function. It turns out that in categories where the optimal thing to do is to put all the samples on one dimension, \n",
    "there are \"plateaus\" in the loss function where pairs of values will have the exact same expected percent correct.\n",
    "Here's an example of a category structure where this is true:"
   ]
  },
  {
   "cell_type": "code",
   "execution_count": 54,
   "metadata": {
    "collapsed": false
   },
   "outputs": [
    {
     "name": "stdout",
     "output_type": "stream",
     "text": [
      "Category A is:  [[0.65749545416973509, 0.24250454583026498], [0.042504545830264945, 0.057495454169735047]]\n",
      "Category B is:  [[0.097495454169735013, 0.0025045458302649544], [0.60250454583026491, 0.29749545416973505]]\n",
      "\n",
      "For this number of X samples, the expected percent correct is \n",
      "0  X samples:  0.884334848\n",
      "1  X samples:  0.884334848\n",
      "2  X samples:  0.8733248\n",
      "3  X samples:  0.8733248\n",
      "4  X samples:  0.853664\n",
      "5  X samples:  0.853664\n",
      "6  X samples:  0.8168\n",
      "7  X samples:  0.8168\n",
      "8  X samples:  0.74\n",
      "9  X samples:  0.74\n",
      "10  X samples:  0.5\n"
     ]
    },
    {
     "data": {
      "image/png": "[encoded data removed]",
      "text/plain": [
       "<matplotlib.figure.Figure at 0x10ffd0490>"
      ]
     },
     "metadata": {},
     "output_type": "display_data"
    }
   ],
   "source": [
    "A_X = .3 \n",
    "A_Y = .1\n",
    "A_rho = .2 #correlation\n",
    "\n",
    "B_X = .3 \n",
    "B_Y = .9\n",
    "B_rho = .2\n",
    "\n",
    "cat_A = get_cat(A_X, A_Y, A_rho)\n",
    "cat_B = get_cat(B_X, B_Y, B_rho)\n",
    "print \"Category A is: \", cat_A\n",
    "print \"Category B is: \", cat_B\n",
    "preds, lams, plot = get_preds(kappa, cat_A, cat_B, p, p0, plot=True)\n",
    "print \"\"\n",
    "print \"For this number of X samples, the expected percent correct is \"\n",
    "for lam in lams:\n",
    "    print lam, \" X samples: \", preds[lam]"
   ]
  },
  {
   "cell_type": "code",
   "execution_count": null,
   "metadata": {
    "collapsed": true
   },
   "outputs": [],
   "source": []
  }
 ],
 "metadata": {
  "kernelspec": {
   "display_name": "Python 2",
   "language": "python",
   "name": "python2"
  },
  "language_info": {
   "codemirror_mode": {
    "name": "ipython",
    "version": 2
   },
   "file_extension": ".py",
   "mimetype": "text/x-python",
   "name": "python",
   "nbconvert_exporter": "python",
   "pygments_lexer": "ipython2",
   "version": "2.7.11"
  }
 },
 "nbformat": 4,
 "nbformat_minor": 0
}
